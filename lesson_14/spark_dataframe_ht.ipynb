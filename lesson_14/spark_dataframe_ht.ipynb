{
 "cells": [
  {
   "cell_type": "code",
   "execution_count": 17,
   "metadata": {
    "collapsed": true,
    "ExecuteTime": {
     "end_time": "2024-02-06T14:09:16.861961Z",
     "start_time": "2024-02-06T14:09:16.701501Z"
    }
   },
   "outputs": [],
   "source": [
    "from pyspark.sql import SparkSession, functions as F, types as T"
   ]
  },
  {
   "cell_type": "code",
   "execution_count": 18,
   "metadata": {
    "collapsed": false,
    "pycharm": {
     "is_executing": true
    },
    "ExecuteTime": {
     "end_time": "2024-02-06T14:09:17.383458Z",
     "start_time": "2024-02-06T14:09:16.727109Z"
    }
   },
   "outputs": [],
   "source": [
    "spark = SparkSession.builder.master('local[*]').getOrCreate()"
   ]
  },
  {
   "cell_type": "code",
   "execution_count": 19,
   "metadata": {
    "collapsed": false,
    "ExecuteTime": {
     "end_time": "2024-02-06T14:09:17.397061Z",
     "start_time": "2024-02-06T14:09:17.386879Z"
    }
   },
   "outputs": [
    {
     "name": "stdout",
     "output_type": "stream",
     "text": [
      "3.4.1\n"
     ]
    }
   ],
   "source": [
    "print(spark.version)"
   ]
  },
  {
   "cell_type": "code",
   "execution_count": 20,
   "metadata": {
    "collapsed": false,
    "ExecuteTime": {
     "end_time": "2024-02-06T14:09:21.094918Z",
     "start_time": "2024-02-06T14:09:17.418082Z"
    }
   },
   "outputs": [],
   "source": [
    "actor_df = spark.read.csv('./data/actor.csv', header=True, inferSchema=True)\n",
    "address_df = spark.read.csv('./data/address.csv', header=True, inferSchema=True)\n",
    "category_df = spark.read.csv('./data/category.csv', header=True, inferSchema=True)\n",
    "city_df = spark.read.csv('./data/city.csv', header=True, inferSchema=True)\n",
    "country_df = spark.read.csv('./data/country.csv', header=True, inferSchema=True)\n",
    "customer_df = spark.read.csv('./data/customer.csv', header=True, inferSchema=True)\n",
    "film_df = spark.read.csv('./data/film.csv', header=True, inferSchema=True)\n",
    "film_actor_df = spark.read.csv('./data/film_actor.csv', header=True, inferSchema=True)\n",
    "film_category_df = spark.read.csv('./data/film_category.csv', header=True, inferSchema=True)\n",
    "inventory_df = spark.read.csv('./data/inventory.csv', header=True, inferSchema=True)\n",
    "language_df = spark.read.csv('./data/language.csv', header=True, inferSchema=True)\n",
    "payment_df = spark.read.csv('./data/payment.csv', header=True, inferSchema=True)\n",
    "rental_df = spark.read.csv('./data/rental.csv', header=True, inferSchema=True)\n",
    "staff_df = spark.read.csv('./data/staff.csv', header=True, inferSchema=True)\n",
    "store_df = spark.read.csv('./data/store.csv', header=True, inferSchema=True)"
   ]
  },
  {
   "cell_type": "markdown",
   "metadata": {
    "collapsed": false
   },
   "source": [
    "# Домашнє завдання на тему Spark SQL\n",
    "\n",
    "Задачі з домашнього завдання на SQL потрібно розвʼязати за допомогою Spark SQL DataFrame API.\n",
    "\n",
    "- Дампи таблиць знаходяться в папці `data`. Датафрейми таблиць вже створені в клітинці вище.\n",
    "- Можете створювати стільки нових клітинок, скільки вам необхідно.\n",
    "- Розвʼязок кожної задачі має бути відображений в самому файлі (використати метод `.show()`)\n",
    "- код має бути оформлений у відповідності із одним із стилем, показаним лектором на занятті 13.\n",
    "\n",
    "**Увага!**\n",
    "Використовувати мову запитів SQL безпосередньо забороняється, потрібно використовувати виключно DataFrame API!\n"
   ]
  },
  {
   "cell_type": "markdown",
   "metadata": {
    "collapsed": false
   },
   "source": [
    "1.\n",
    "Вивести кількість фільмів в кожній категорії.\n",
    "Результат відсортувати за спаданням."
   ]
  },
  {
   "cell_type": "code",
   "execution_count": 21,
   "metadata": {
    "collapsed": false,
    "ExecuteTime": {
     "end_time": "2024-02-06T14:09:21.396302Z",
     "start_time": "2024-02-06T14:09:21.098465Z"
    }
   },
   "outputs": [
    {
     "name": "stdout",
     "output_type": "stream",
     "text": [
      "+-----------+----------+\n",
      "|       name|film_count|\n",
      "+-----------+----------+\n",
      "|     Sports|        74|\n",
      "|    Foreign|        73|\n",
      "|     Family|        69|\n",
      "|Documentary|        68|\n",
      "|  Animation|        66|\n",
      "|     Action|        64|\n",
      "|        New|        63|\n",
      "|      Drama|        62|\n",
      "|      Games|        61|\n",
      "|     Sci-Fi|        61|\n",
      "|   Children|        60|\n",
      "|     Comedy|        58|\n",
      "|     Travel|        57|\n",
      "|   Classics|        57|\n",
      "|     Horror|        56|\n",
      "|      Music|        51|\n",
      "+-----------+----------+\n"
     ]
    }
   ],
   "source": [
    "film_category_joined = film_category_df.join(category_df, film_category_df.category_id == category_df.category_id)\n",
    "\n",
    "category_film_count = film_category_joined.groupBy(\"name\").agg(F.count(\"film_id\").alias(\"film_count\"))\n",
    "\n",
    "sorted_category_film_count = category_film_count.orderBy(F.col(\"film_count\").desc())\n",
    "\n",
    "sorted_category_film_count.show()"
   ]
  },
  {
   "cell_type": "markdown",
   "metadata": {
    "collapsed": false
   },
   "source": [
    "2.\n",
    "Вивести 10 акторів, чиї фільми брали на прокат найбільше.\n",
    "Результат відсортувати за спаданням."
   ]
  },
  {
   "cell_type": "code",
   "execution_count": 22,
   "metadata": {
    "collapsed": false,
    "ExecuteTime": {
     "end_time": "2024-02-06T14:09:22.398589Z",
     "start_time": "2024-02-06T14:09:21.409550Z"
    }
   },
   "outputs": [
    {
     "name": "stdout",
     "output_type": "stream",
     "text": [
      "+----------+-----------+------------+\n",
      "|first_name|  last_name|rental_count|\n",
      "+----------+-----------+------------+\n",
      "|      GINA|  DEGENERES|         753|\n",
      "|   MATTHEW|     CARREY|         678|\n",
      "|      MARY|     KEITEL|         674|\n",
      "|    ANGELA|WITHERSPOON|         654|\n",
      "|    WALTER|       TORN|         640|\n",
      "|     HENRY|      BERRY|         612|\n",
      "|     JAYNE|      NOLTE|         611|\n",
      "|       VAL|     BOLGER|         605|\n",
      "|    SANDRA|     KILMER|         604|\n",
      "|      SEAN|    GUINESS|         599|\n",
      "+----------+-----------+------------+\n"
     ]
    }
   ],
   "source": [
    "film_actor_alias = film_actor_df.alias(\"fa\")\n",
    "film_alias = film_df.alias(\"f\")\n",
    "inventory_alias = inventory_df.alias(\"i\")\n",
    "rental_alias = rental_df.alias(\"r\")\n",
    "actor_alias = actor_df.alias(\"a\")\n",
    "\n",
    "film_actor_joined = film_actor_alias.join(film_alias, F.col(\"fa.film_id\") == F.col(\"f.film_id\"))\n",
    "\n",
    "film_inventory_joined = film_actor_joined.join(inventory_alias, F.col(\"f.film_id\") == F.col(\"i.film_id\"))\n",
    "\n",
    "film_rental_joined = film_inventory_joined.join(rental_alias, F.col(\"i.inventory_id\") == F.col(\"r.inventory_id\"))\n",
    "\n",
    "actor_rental_count = film_rental_joined.groupBy(\"fa.actor_id\").agg(F.count(\"r.rental_id\").alias(\"rental_count\"))\n",
    "\n",
    "actor_info = actor_rental_count.join(actor_alias, F.col(\"fa.actor_id\") == F.col(\"a.actor_id\"))\n",
    "\n",
    "top_actors = actor_info.select(\"a.first_name\", \"a.last_name\", \"rental_count\").orderBy(F.col(\"rental_count\").desc()).limit(10)\n",
    "\n",
    "top_actors.show()"
   ]
  },
  {
   "cell_type": "markdown",
   "metadata": {
    "collapsed": false
   },
   "source": [
    "3.\n",
    "Вивести категорія фільмів, на яку було витрачено найбільше грошей\n",
    "в прокаті"
   ]
  },
  {
   "cell_type": "code",
   "execution_count": 23,
   "metadata": {
    "collapsed": false,
    "ExecuteTime": {
     "end_time": "2024-02-06T14:09:23.956828Z",
     "start_time": "2024-02-06T14:09:22.395756Z"
    }
   },
   "outputs": [
    {
     "name": "stderr",
     "output_type": "stream",
     "text": [
      "                                                                                \r"
     ]
    },
    {
     "name": "stdout",
     "output_type": "stream",
     "text": [
      "+------+-----------------+\n",
      "|  name|      total_spent|\n",
      "+------+-----------------+\n",
      "|Sports|5314.209999999847|\n",
      "+------+-----------------+\n"
     ]
    }
   ],
   "source": [
    "film_category_alias = film_category_df.alias(\"fc\")\n",
    "category_alias = category_df.alias(\"c\")\n",
    "film_alias = film_df.alias(\"f\")\n",
    "inventory_alias = inventory_df.alias(\"i\")\n",
    "rental_alias = rental_df.alias(\"r\")\n",
    "payment_alias = payment_df.alias(\"p\")\n",
    "\n",
    "category_joined = film_category_alias.join(category_alias, F.col(\"fc.category_id\") == F.col(\"c.category_id\"))\n",
    "\n",
    "film_inventory_joined = film_alias.join(inventory_alias, F.col(\"f.film_id\") == F.col(\"i.film_id\"))\n",
    "\n",
    "film_rental_joined = film_inventory_joined.join(rental_alias, F.col(\"i.inventory_id\") == F.col(\"r.inventory_id\"))\n",
    "\n",
    "film_payment_joined = film_rental_joined.join(payment_alias, F.col(\"r.rental_id\") == F.col(\"p.rental_id\"))\n",
    "\n",
    "category_payment_sum = film_payment_joined.join(category_joined, F.col(\"i.film_id\") == F.col(\"fc.film_id\")) \\\n",
    "    .groupBy(\"c.name\").agg(F.sum(\"p.amount\").alias(\"total_spent\"))\n",
    "\n",
    "top_spending_category = category_payment_sum.orderBy(F.col(\"total_spent\").desc()).limit(1)\n",
    "\n",
    "top_spending_category.show()"
   ]
  },
  {
   "cell_type": "markdown",
   "metadata": {
    "collapsed": false
   },
   "source": [
    "4.\n",
    "Вивести назви фільмів, яких не має в inventory."
   ]
  },
  {
   "cell_type": "code",
   "execution_count": 24,
   "metadata": {
    "collapsed": false,
    "ExecuteTime": {
     "end_time": "2024-02-06T14:09:24.211446Z",
     "start_time": "2024-02-06T14:09:23.958415Z"
    }
   },
   "outputs": [
    {
     "name": "stdout",
     "output_type": "stream",
     "text": [
      "+--------------------+\n",
      "|               title|\n",
      "+--------------------+\n",
      "|      ALICE FANTASIA|\n",
      "|         APOLLO TEEN|\n",
      "|      ARGONAUTS TOWN|\n",
      "|       ARK RIDGEMONT|\n",
      "|ARSENIC INDEPENDENCE|\n",
      "|   BOONDOCK BALLROOM|\n",
      "|       BUTCH PANTHER|\n",
      "|       CATCH AMISTAD|\n",
      "| CHINATOWN GLADIATOR|\n",
      "|      CHOCOLATE DUCK|\n",
      "|COMMANDMENTS EXPRESS|\n",
      "|    CROSSING DIVORCE|\n",
      "|     CROWDS TELEMARK|\n",
      "|    CRYSTAL BREAKING|\n",
      "|          DAZED PUNK|\n",
      "|DELIVERANCE MULHO...|\n",
      "|   FIREHOUSE VIETNAM|\n",
      "|       FLOATS GARDEN|\n",
      "|FRANKENSTEIN STRA...|\n",
      "|  GLADIATOR WESTWARD|\n",
      "+--------------------+\n"
     ]
    }
   ],
   "source": [
    "film_alias = film_df.alias(\"f\")\n",
    "inventory_alias = inventory_df.alias(\"i\")\n",
    "\n",
    "film_inventory_joined = film_alias.join(inventory_alias, F.col(\"f.film_id\") == F.col(\"i.film_id\"), \"left_outer\")\n",
    "films_not_in_inventory = film_inventory_joined.filter(F.col(\"i.inventory_id\").isNull()).select(\"f.title\")\n",
    "\n",
    "films_not_in_inventory.show()"
   ]
  },
  {
   "cell_type": "markdown",
   "metadata": {
    "collapsed": false
   },
   "source": [
    "5.\n",
    "Вивести топ 3 актори, які найбільше зʼявлялись в категорії фільмів “Children”"
   ]
  },
  {
   "cell_type": "code",
   "execution_count": 25,
   "metadata": {
    "collapsed": false,
    "pycharm": {
     "is_executing": true
    },
    "ExecuteTime": {
     "end_time": "2024-02-06T14:09:25.218913Z",
     "start_time": "2024-02-06T14:09:24.205092Z"
    }
   },
   "outputs": [
    {
     "name": "stdout",
     "output_type": "stream",
     "text": [
      "+--------+----------+---------+----------+\n",
      "|actor_id|first_name|last_name|film_count|\n",
      "+--------+----------+---------+----------+\n",
      "|      17|     HELEN|   VOIGHT|         7|\n",
      "|     127|     KEVIN|  GARLAND|         5|\n",
      "|     140|    WHOOPI|     HURT|         5|\n",
      "+--------+----------+---------+----------+\n"
     ]
    }
   ],
   "source": [
    "film_category_alias = film_category_df.alias(\"fc\")\n",
    "category_alias = category_df.alias(\"c\")\n",
    "film_actor_alias = film_actor_df.alias(\"fa\")\n",
    "actor_alias = actor_df.alias(\"a\")\n",
    "\n",
    "children_films = film_category_alias.join(category_alias, F.col(\"fc.category_id\") == F.col(\"c.category_id\")) \\\n",
    "    .filter(F.col(\"c.name\") == \"Children\").select(\"fc.film_id\")\n",
    "\n",
    "film_actor_joined = children_films.join(film_actor_alias, F.col(\"fc.film_id\") == F.col(\"fa.film_id\"))\n",
    "\n",
    "actor_film_joined = film_actor_joined.join(actor_alias, F.col(\"fa.actor_id\") == F.col(\"a.actor_id\"))\n",
    "\n",
    "actor_count = actor_film_joined.groupBy(\"a.actor_id\", \"a.first_name\", \"a.last_name\") \\\n",
    "    .agg(F.count(\"fa.film_id\").alias(\"film_count\"))\n",
    "\n",
    "top_actors = actor_count.orderBy(F.col(\"film_count\").desc()).limit(3)\n",
    "\n",
    "top_actors.show()"
   ]
  },
  {
   "cell_type": "code",
   "execution_count": 25,
   "metadata": {
    "collapsed": false,
    "ExecuteTime": {
     "end_time": "2024-02-06T14:09:25.220175Z",
     "start_time": "2024-02-06T14:09:25.208416Z"
    }
   },
   "outputs": [],
   "source": []
  },
  {
   "cell_type": "markdown",
   "metadata": {
    "collapsed": false
   },
   "source": [
    "Stop Spark session:"
   ]
  },
  {
   "cell_type": "code",
   "execution_count": 26,
   "metadata": {
    "collapsed": false,
    "ExecuteTime": {
     "end_time": "2024-02-06T14:09:25.894745Z",
     "start_time": "2024-02-06T14:09:25.219403Z"
    }
   },
   "outputs": [],
   "source": [
    "spark.stop()"
   ]
  },
  {
   "cell_type": "code",
   "execution_count": 26,
   "outputs": [],
   "source": [],
   "metadata": {
    "collapsed": false,
    "ExecuteTime": {
     "end_time": "2024-02-06T14:09:25.899299Z",
     "start_time": "2024-02-06T14:09:25.860207Z"
    }
   }
  }
 ],
 "metadata": {
  "kernelspec": {
   "display_name": "Python 3",
   "language": "python",
   "name": "python3"
  },
  "language_info": {
   "codemirror_mode": {
    "name": "ipython",
    "version": 2
   },
   "file_extension": ".py",
   "mimetype": "text/x-python",
   "name": "python",
   "nbconvert_exporter": "python",
   "pygments_lexer": "ipython2",
   "version": "2.7.6"
  }
 },
 "nbformat": 4,
 "nbformat_minor": 0
}
